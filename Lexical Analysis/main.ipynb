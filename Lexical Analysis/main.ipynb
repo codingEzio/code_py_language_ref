{
 "cells": [
  {
   "cell_type": "markdown",
   "metadata": {},
   "source": [
    "### Lexcial\n",
    "- As its name, the Python program <small>(file)</small> was \"splited\" into *words*.\n",
    "- Formally, the sentence is that using **parser** breaks a file into *a stream of tokens*, XD.\n",
    "\n",
    "### the *Token*\n",
    "- Just a bunch of const vals, and the [stdlib - pylangservice](https://docs.python.org/3.7/library/language.html)\n",
    "- Source code: [```token.py```](https://github.com/python/cpython/blob/3.7/Lib/token.py), [```Token.h```](https://github.com/python/cpython/blob/3.7/Include/token.h)\n",
    "- Do check the [stdlib](https://docs.python.org/3.7/library/language.html) material!"
   ]
  },
  {
   "cell_type": "markdown",
   "metadata": {},
   "source": [
    "### Indentation   \n",
    "\n",
    "Check this \n",
    "\n",
    "```python\n",
    "def perm(l):\n",
    "        # This is a LEGIT function!\n",
    "        # Not very nice looking, it works though. XD.\n",
    "    if len(l) <= 1:\n",
    "                  return [l]\n",
    "    r = []\n",
    "    for i in range(len(l)):\n",
    "             s = l[:i] + l[i+1:]\n",
    "             p = perm(s)\n",
    "             for x in p:\n",
    "              r.append(l[i:i+1] + x)\n",
    "    return r\n",
    "```\n",
    "\n",
    "This one will **NOT** work\n",
    "\n",
    "```python\n",
    " def perm(l):                       # error: first line indented\n",
    "for i in range(len(l)):             # error: not indented\n",
    "    s = l[:i] + l[i+1:]\n",
    "        p = perm(l[:i] + l[i+1:])   # error: unexpected indent\n",
    "        for x in p:\n",
    "                r.append(l[i:i+1] + x)\n",
    "            return r                # error: inconsistent dedent\n",
    "```"
   ]
  },
  {
   "cell_type": "markdown",
   "metadata": {},
   "source": [
    "### Line joining\n",
    "\n",
    "Explicit\n",
    "\n",
    "```python\n",
    "if 1 == 1 \\\n",
    "    and 2 == 2 \\\n",
    "    and 3 == 3 \\\n",
    "    and 1 + 2 + 3 == 6:\n",
    "    print('You cannot add comments in here')      \n",
    "```"
   ]
  },
  {
   "cell_type": "markdown",
   "metadata": {},
   "source": [
    "Implicit\n",
    "\n",
    "```python\n",
    "num = {\n",
    "    (1, 2, 3),  # ah\n",
    "    [4, 5, 6],  # ya \n",
    "    {7, 8, 9}   # weee\n",
    "}\n",
    "```"
   ]
  },
  {
   "cell_type": "markdown",
   "metadata": {},
   "source": [
    "### the *underscore* identifiers\n",
    "\n",
    "if u're using ```from module import *```\n",
    "\n",
    "```python\n",
    "if 'this is the file being imported':\n",
    "    a  = 1  # totally fine\n",
    "    _b = 2  # nah, u won't get this one\n",
    "```\n",
    "\n",
    "the ```__*```\n",
    "- kinda the same but inside the *class*\n",
    "- plus the 'a bit' different mechanics\n",
    "\n",
    "ah, about the ```__*__```\n",
    "- see more at [here](https://docs.python.org/3/reference/datamodel.html#specialnames), and [here](https://rszalski.github.io/magicmethods/)\n",
    "\n"
   ]
  },
  {
   "cell_type": "markdown",
   "metadata": {},
   "source": [
    "### String stuff"
   ]
  },
  {
   "cell_type": "markdown",
   "metadata": {},
   "source": [
    "0x01 - special cases"
   ]
  },
  {
   "cell_type": "code",
   "execution_count": 1,
   "metadata": {},
   "outputs": [
    {
     "data": {
      "text/plain": [
       "True"
      ]
     },
     "execution_count": 1,
     "metadata": {},
     "output_type": "execute_result"
    },
    {
     "data": {
      "text/plain": [
       "True"
      ]
     },
     "execution_count": 1,
     "metadata": {},
     "output_type": "execute_result"
    },
    {
     "data": {
      "text/plain": [
       "\"'\""
      ]
     },
     "execution_count": 1,
     "metadata": {},
     "output_type": "execute_result"
    },
    {
     "data": {
      "text/plain": [
       "\"\\\\'\""
      ]
     },
     "execution_count": 1,
     "metadata": {},
     "output_type": "execute_result"
    }
   ],
   "source": [
    "isinstance(b'A', bytes)\n",
    "isinstance('A' , str)\n",
    "\n",
    "\"\\'\"   # '\n",
    "r\"\\'\"  # \\'"
   ]
  },
  {
   "cell_type": "markdown",
   "metadata": {},
   "source": [
    "0x02 - concat"
   ]
  },
  {
   "cell_type": "code",
   "execution_count": 2,
   "metadata": {},
   "outputs": [
    {
     "name": "stdout",
     "output_type": "stream",
     "text": [
      "what thefuck\n"
     ]
    }
   ],
   "source": [
    "print(\n",
    "    \"what\"  # haha\n",
    "    \" the\"  # comments here!\n",
    "    \"fuck\"  # ya still able to add '+'\n",
    ")"
   ]
  },
  {
   "cell_type": "markdown",
   "metadata": {},
   "source": [
    "0x03 - ```f'{}'```"
   ]
  },
  {
   "cell_type": "code",
   "execution_count": 3,
   "metadata": {},
   "outputs": [
    {
     "data": {
      "text/plain": [
       "'3'"
      ]
     },
     "execution_count": 3,
     "metadata": {},
     "output_type": "execute_result"
    },
    {
     "data": {
      "text/plain": [
       "'0'"
      ]
     },
     "execution_count": 3,
     "metadata": {},
     "output_type": "execute_result"
    },
    {
     "data": {
      "text/plain": [
       "'hello'"
      ]
     },
     "execution_count": 3,
     "metadata": {},
     "output_type": "execute_result"
    },
    {
     "data": {
      "text/plain": [
       "\"'hello'\""
      ]
     },
     "execution_count": 3,
     "metadata": {},
     "output_type": "execute_result"
    },
    {
     "data": {
      "text/plain": [
       "'          hello'"
      ]
     },
     "execution_count": 3,
     "metadata": {},
     "output_type": "execute_result"
    },
    {
     "data": {
      "text/plain": [
       "\"The 'hello' got        5.0 alphabets.\""
      ]
     },
     "execution_count": 3,
     "metadata": {},
     "output_type": "execute_result"
    }
   ],
   "source": [
    "# Just the expr u put into the `eval` (with restrictions)\n",
    "\n",
    "f'{1 + 2}'\n",
    "f'{1 and 0}'\n",
    "\n",
    "greeting = 'hello'\n",
    "\n",
    "f'{greeting}'\n",
    "f'{greeting!r}'\n",
    "f'{greeting:>15}'\n",
    "\n",
    "# nasty nesting, XD\n",
    "f'The {greeting!r} got {float(len(greeting)):10.{len(greeting)}} alphabets.'"
   ]
  },
  {
   "cell_type": "code",
   "execution_count": 4,
   "metadata": {},
   "outputs": [
    {
     "name": "stdout",
     "output_type": "stream",
     "text": [
      "October 12, 2018\n"
     ]
    }
   ],
   "source": [
    "import datetime\n",
    "\n",
    "today = datetime.datetime.today()\n",
    "\n",
    "print(\n",
    "    f'{today:%B %d, %Y}'\n",
    ")"
   ]
  },
  {
   "cell_type": "markdown",
   "metadata": {},
   "source": [
    "### Number stuff"
   ]
  },
  {
   "cell_type": "markdown",
   "metadata": {},
   "source": [
    "0x01 - groupin' "
   ]
  },
  {
   "cell_type": "code",
   "execution_count": 5,
   "metadata": {},
   "outputs": [
    {
     "data": {
      "text/plain": [
       "10000000000"
      ]
     },
     "execution_count": 5,
     "metadata": {},
     "output_type": "execute_result"
    },
    {
     "data": {
      "text/plain": [
       "3735928559"
      ]
     },
     "execution_count": 5,
     "metadata": {},
     "output_type": "execute_result"
    },
    {
     "data": {
      "text/plain": [
       "255"
      ]
     },
     "execution_count": 5,
     "metadata": {},
     "output_type": "execute_result"
    },
    {
     "data": {
      "text/plain": [
       "3.1415926535"
      ]
     },
     "execution_count": 5,
     "metadata": {},
     "output_type": "execute_result"
    },
    {
     "data": {
      "text/plain": [
       "6.666888j"
      ]
     },
     "execution_count": 5,
     "metadata": {},
     "output_type": "execute_result"
    }
   ],
   "source": [
    "# cool, huh?\n",
    "\n",
    "100_0000_0000  # yes\n",
    "0xdead_BEEF    # u sure want this?\n",
    "\n",
    "# yes, here comes the Mr. binary!\n",
    "0b1111_1111\n",
    "\n",
    "# and our float num\n",
    "3.14159_26535\n",
    "\n",
    "# and our imaginary num\n",
    "6.666_888j "
   ]
  }
 ],
 "metadata": {
  "kernelspec": {
   "display_name": "Python 3",
   "language": "python",
   "name": "python3"
  },
  "language_info": {
   "codemirror_mode": {
    "name": "ipython",
    "version": 3
   },
   "file_extension": ".py",
   "mimetype": "text/x-python",
   "name": "python",
   "nbconvert_exporter": "python",
   "pygments_lexer": "ipython3",
   "version": "3.6.5"
  }
 },
 "nbformat": 4,
 "nbformat_minor": 2
}
